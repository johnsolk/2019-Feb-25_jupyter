{
 "cells": [
  {
   "cell_type": "code",
   "execution_count": 1,
   "metadata": {},
   "outputs": [],
   "source": [
    "import scanpy as sc\n",
    "import numpy as np\n",
    "import scipy as sp\n",
    "import pandas as pd\n",
    "import matplotlib.pyplot as plt\n",
    "import matplotlib.image as mpimg\n",
    "from matplotlib import rcParams\n",
    "import seaborn as sb\n",
    "\n",
    "import SpatialDE\n",
    "\n",
    "plt.rcParams['figure.figsize']=(8,8)\n",
    "\n",
    "%load_ext autoreload\n",
    "%autoreload 2"
   ]
  },
  {
   "cell_type": "code",
   "execution_count": 5,
   "metadata": {},
   "outputs": [
    {
     "data": {
      "application/vnd.jupyter.widget-view+json": {
       "model_id": "caf145990f9c43d695bdbc61f0a0dca4",
       "version_major": 2,
       "version_minor": 0
      },
      "text/plain": [
       "HBox(children=(FloatProgress(value=0.0, description='Files', max=5.0, style=ProgressStyle(description_width='i…"
      ]
     },
     "metadata": {},
     "output_type": "display_data"
    },
    {
     "name": "stdout",
     "output_type": "stream",
     "text": [
      "\n"
     ]
    },
    {
     "name": "stderr",
     "output_type": "stream",
     "text": [
      "Variable names are not unique. To make them unique, call `.var_names_make_unique`.\n",
      "Variable names are not unique. To make them unique, call `.var_names_make_unique`.\n",
      "Variable names are not unique. To make them unique, call `.var_names_make_unique`.\n"
     ]
    }
   ],
   "source": [
    "adata = sc.datasets.visium_sge('V1_Human_Lymph_Node')"
   ]
  },
  {
   "cell_type": "code",
   "execution_count": 3,
   "metadata": {},
   "outputs": [],
   "source": [
    "adata.var_names_make_unique()"
   ]
  },
  {
   "cell_type": "code",
   "execution_count": 4,
   "metadata": {},
   "outputs": [],
   "source": [
    "sc.pp.calculate_qc_metrics(adata, inplace=True)\n",
    "adata.var['mt'] = [gene.startswith('MT-') for gene in adata.var_names]\n",
    "adata.obs['mt_frac'] = adata[:, adata.var['mt']].X.sum(1).A.squeeze()/adata.obs['total_counts']"
   ]
  },
  {
   "cell_type": "code",
   "execution_count": null,
   "metadata": {},
   "outputs": [],
   "source": [
    "fig, axs = plt.subplots(1,4, figsize=(15,4))\n",
    "fig.suptitle('Covariates for filtering')\n",
    "sb.distplot(adata.obs['total_counts'], kde=False, ax = axs[0])\n",
    "sb.distplot(adata.obs['total_counts'][adata.obs['total_counts']<10000], kde=False, bins=40, ax = axs[1])\n",
    "sb.distplot(adata.obs['n_genes_by_counts'], kde=False, bins=60, ax = axs[2])\n",
    "sb.distplot(adata.obs['n_genes_by_counts'][adata.obs['n_genes_by_counts']<4000], kde=False, bins=60, ax = axs[3])"
   ]
  },
  {
   "cell_type": "code",
   "execution_count": 6,
   "metadata": {},
   "outputs": [
    {
     "name": "stdout",
     "output_type": "stream",
     "text": [
      "Number of cells after min count filter: 4014\n",
      "Number of cells after max count filter: 4009\n",
      "Number of cells after MT filter: 4009\n"
     ]
    },
    {
     "name": "stderr",
     "output_type": "stream",
     "text": [
      "Trying to set attribute `.obs` of view, copying.\n"
     ]
    },
    {
     "name": "stdout",
     "output_type": "stream",
     "text": [
      "Number of cells after gene filter: 4003\n",
      "Number of genes after cell filter: 18490\n"
     ]
    }
   ],
   "source": [
    "sc.pp.filter_cells(adata, min_counts = 1000)\n",
    "print(f'Number of cells after min count filter: {adata.n_obs}')\n",
    "sc.pp.filter_cells(adata, max_counts = 40000)\n",
    "print(f'Number of cells after max count filter: {adata.n_obs}')\n",
    "adata = adata[adata.obs['mt_frac'] < 0.2]\n",
    "print(f'Number of cells after MT filter: {adata.n_obs}')\n",
    "sc.pp.filter_cells(adata, min_genes = 1000)\n",
    "print(f'Number of cells after gene filter: {adata.n_obs}')\n",
    "sc.pp.filter_genes(adata, min_cells=10)\n",
    "print(f'Number of genes after cell filter: {adata.n_vars}')"
   ]
  },
  {
   "cell_type": "code",
   "execution_count": 7,
   "metadata": {},
   "outputs": [],
   "source": [
    "sc.pp.normalize_total(adata, inplace = True)\n",
    "sc.pp.log1p(adata)\n",
    "sc.pp.highly_variable_genes(adata, flavor='seurat', n_top_genes=2000, inplace=True)"
   ]
  },
  {
   "cell_type": "code",
   "execution_count": null,
   "metadata": {},
   "outputs": [],
   "source": [
    "sc.pp.pca(adata, n_comps=50, use_highly_variable=True, svd_solver='arpack')\n",
    "sc.pp.neighbors(adata)\n",
    "\n",
    "sc.tl.umap(adata)\n",
    "sc.tl.louvain(adata, key_added='clusters')"
   ]
  },
  {
   "cell_type": "code",
   "execution_count": null,
   "metadata": {},
   "outputs": [],
   "source": [
    "sc.pl.umap(adata, color=['total_counts', 'n_genes_by_counts'])\n",
    "sc.pl.umap(adata, color='clusters', palette=sc.pl.palettes.default_20)"
   ]
  },
  {
   "cell_type": "code",
   "execution_count": null,
   "metadata": {},
   "outputs": [],
   "source": [
    "sc.pl.spatial(adata, img_key = \"hires\",color=['total_counts', 'n_genes_by_counts'])"
   ]
  },
  {
   "cell_type": "code",
   "execution_count": null,
   "metadata": {},
   "outputs": [],
   "source": [
    "sc.pl.spatial(adata, img_key = \"hires\", color=\"clusters\", size=1.5)"
   ]
  },
  {
   "cell_type": "code",
   "execution_count": 22,
   "metadata": {},
   "outputs": [
    {
     "name": "stdout",
     "output_type": "stream",
     "text": [
      "WARNING: dendrogram data not found (using key=dendrogram_clusters). Running `sc.tl.dendrogram` with default parameters. For fine tuning it is recommended to run `sc.tl.dendrogram` independently.\n",
      "WARNING: Groups are not reordered because the `groupby` categories and the `var_group_labels` are different.\n",
      "categories: 0, 1, 2, etc.\n",
      "var_group_labels: 4\n"
     ]
    }
   ],
   "source": [
    "sc.tl.rank_genes_groups(adata, \"clusters\", inplace = True)\n",
    "sc.pl.rank_genes_groups_heatmap(adata, groups = \"4\", groupby = \"clusters\", show = False)"
   ]
  },
  {
   "cell_type": "code",
   "execution_count": null,
   "metadata": {},
   "outputs": [],
   "source": [
    "sc.pl.spatial(adata, img_key = \"hires\", color=\"Rbfox3\")"
   ]
  },
  {
   "cell_type": "code",
   "execution_count": 24,
   "metadata": {},
   "outputs": [
    {
     "data": {
      "application/vnd.jupyter.widget-view+json": {
       "model_id": "7c6e77bde45e46c09452dca51d68f5c5",
       "version_major": 2,
       "version_minor": 0
      },
      "text/plain": [
       "A Jupyter Widget"
      ]
     },
     "metadata": {},
     "output_type": "display_data"
    },
    {
     "data": {
      "application/vnd.jupyter.widget-view+json": {
       "model_id": "26a501b13f674e5ebd758ce9aca3131a",
       "version_major": 2,
       "version_minor": 0
      },
      "text/plain": [
       "A Jupyter Widget"
      ]
     },
     "metadata": {},
     "output_type": "display_data"
    },
    {
     "data": {
      "application/vnd.jupyter.widget-view+json": {
       "model_id": "bc1fab8b4a904f4787056f3ffc5ca637",
       "version_major": 2,
       "version_minor": 0
      },
      "text/plain": [
       "A Jupyter Widget"
      ]
     },
     "metadata": {},
     "output_type": "display_data"
    },
    {
     "data": {
      "application/vnd.jupyter.widget-view+json": {
       "model_id": "fafbf2fc6cb648119dccd1ad583636a7",
       "version_major": 2,
       "version_minor": 0
      },
      "text/plain": [
       "A Jupyter Widget"
      ]
     },
     "metadata": {},
     "output_type": "display_data"
    },
    {
     "data": {
      "application/vnd.jupyter.widget-view+json": {
       "model_id": "2d682265ce08448e960afb55c23fc697",
       "version_major": 2,
       "version_minor": 0
      },
      "text/plain": [
       "A Jupyter Widget"
      ]
     },
     "metadata": {},
     "output_type": "display_data"
    },
    {
     "data": {
      "application/vnd.jupyter.widget-view+json": {
       "model_id": "9fb25c8659c0428ea79e7c1ce6992d61",
       "version_major": 2,
       "version_minor": 0
      },
      "text/plain": [
       "A Jupyter Widget"
      ]
     },
     "metadata": {},
     "output_type": "display_data"
    },
    {
     "data": {
      "application/vnd.jupyter.widget-view+json": {
       "model_id": "615b9dad937c46e19e143ca209307811",
       "version_major": 2,
       "version_minor": 0
      },
      "text/plain": [
       "A Jupyter Widget"
      ]
     },
     "metadata": {},
     "output_type": "display_data"
    },
    {
     "data": {
      "application/vnd.jupyter.widget-view+json": {
       "model_id": "1e90ee1d2d27465ea9cda8b07b2ff699",
       "version_major": 2,
       "version_minor": 0
      },
      "text/plain": [
       "A Jupyter Widget"
      ]
     },
     "metadata": {},
     "output_type": "display_data"
    },
    {
     "data": {
      "application/vnd.jupyter.widget-view+json": {
       "model_id": "a2e2e513797b4d1f8552445bd6f885f4",
       "version_major": 2,
       "version_minor": 0
      },
      "text/plain": [
       "A Jupyter Widget"
      ]
     },
     "metadata": {},
     "output_type": "display_data"
    },
    {
     "data": {
      "application/vnd.jupyter.widget-view+json": {
       "model_id": "6f9b278e302c49eabebd5d2d7c588136",
       "version_major": 2,
       "version_minor": 0
      },
      "text/plain": [
       "A Jupyter Widget"
      ]
     },
     "metadata": {},
     "output_type": "display_data"
    },
    {
     "data": {
      "application/vnd.jupyter.widget-view+json": {
       "model_id": "66624543997f4f1a8d290b0a2b45d75e",
       "version_major": 2,
       "version_minor": 0
      },
      "text/plain": [
       "A Jupyter Widget"
      ]
     },
     "metadata": {},
     "output_type": "display_data"
    },
    {
     "name": "stdout",
     "output_type": "stream",
     "text": [
      "\n"
     ]
    }
   ],
   "source": [
    "counts = pd.DataFrame(adata.X.todense(), columns=adata.var_names, index=adata.obs_names)\n",
    "coord = pd.DataFrame(adata.obsm[\"X_spatial\"], columns=[\"x_coord\", \"y_coord\"], index = adata.obs_names)\n",
    "\n",
    "results = SpatialDE.run(coord, counts)"
   ]
  },
  {
   "cell_type": "code",
   "execution_count": 25,
   "metadata": {
    "collapsed": true
   },
   "outputs": [],
   "source": [
    "results.index = results[\"g\"]\n",
    "adata.var = pd.concat([adata.var, results.loc[adata.var.index.values,:]], axis = 1)"
   ]
  },
  {
   "cell_type": "code",
   "execution_count": 26,
   "metadata": {},
   "outputs": [
    {
     "data": {
      "text/html": [
       "<div>\n",
       "<style scoped>\n",
       "    .dataframe tbody tr th:only-of-type {\n",
       "        vertical-align: middle;\n",
       "    }\n",
       "\n",
       "    .dataframe tbody tr th {\n",
       "        vertical-align: top;\n",
       "    }\n",
       "\n",
       "    .dataframe thead th {\n",
       "        text-align: right;\n",
       "    }\n",
       "</style>\n",
       "<table border=\"1\" class=\"dataframe\">\n",
       "  <thead>\n",
       "    <tr style=\"text-align: right;\">\n",
       "      <th></th>\n",
       "      <th>FSV</th>\n",
       "      <th>M</th>\n",
       "      <th>g</th>\n",
       "      <th>l</th>\n",
       "      <th>max_delta</th>\n",
       "      <th>max_ll</th>\n",
       "      <th>max_mu_hat</th>\n",
       "      <th>max_s2_t_hat</th>\n",
       "      <th>model</th>\n",
       "      <th>n</th>\n",
       "      <th>s2_FSV</th>\n",
       "      <th>s2_logdelta</th>\n",
       "      <th>time</th>\n",
       "      <th>BIC</th>\n",
       "      <th>max_ll_null</th>\n",
       "      <th>LLR</th>\n",
       "      <th>pval</th>\n",
       "      <th>qval</th>\n",
       "    </tr>\n",
       "    <tr>\n",
       "      <th>g</th>\n",
       "      <th></th>\n",
       "      <th></th>\n",
       "      <th></th>\n",
       "      <th></th>\n",
       "      <th></th>\n",
       "      <th></th>\n",
       "      <th></th>\n",
       "      <th></th>\n",
       "      <th></th>\n",
       "      <th></th>\n",
       "      <th></th>\n",
       "      <th></th>\n",
       "      <th></th>\n",
       "      <th></th>\n",
       "      <th></th>\n",
       "      <th></th>\n",
       "      <th></th>\n",
       "      <th></th>\n",
       "    </tr>\n",
       "  </thead>\n",
       "  <tbody>\n",
       "    <tr>\n",
       "      <th>Frrs1l</th>\n",
       "      <td>0.249794</td>\n",
       "      <td>4</td>\n",
       "      <td>Frrs1l</td>\n",
       "      <td>459.007121</td>\n",
       "      <td>2.938079</td>\n",
       "      <td>-2456.504937</td>\n",
       "      <td>0.657467</td>\n",
       "      <td>0.089393</td>\n",
       "      <td>SE</td>\n",
       "      <td>3231</td>\n",
       "      <td>0.000018</td>\n",
       "      <td>0.000549</td>\n",
       "      <td>0.001802</td>\n",
       "      <td>4945.332062</td>\n",
       "      <td>-2825.641903</td>\n",
       "      <td>369.136966</td>\n",
       "      <td>0.0</td>\n",
       "      <td>0.0</td>\n",
       "    </tr>\n",
       "    <tr>\n",
       "      <th>Cap2</th>\n",
       "      <td>0.227798</td>\n",
       "      <td>4</td>\n",
       "      <td>Cap2</td>\n",
       "      <td>865.357789</td>\n",
       "      <td>3.150269</td>\n",
       "      <td>-1958.034694</td>\n",
       "      <td>0.401318</td>\n",
       "      <td>0.060421</td>\n",
       "      <td>SE</td>\n",
       "      <td>3231</td>\n",
       "      <td>0.000107</td>\n",
       "      <td>0.003541</td>\n",
       "      <td>0.003584</td>\n",
       "      <td>3948.391576</td>\n",
       "      <td>-2293.415025</td>\n",
       "      <td>335.380331</td>\n",
       "      <td>0.0</td>\n",
       "      <td>0.0</td>\n",
       "    </tr>\n",
       "    <tr>\n",
       "      <th>Ube2m</th>\n",
       "      <td>0.116313</td>\n",
       "      <td>4</td>\n",
       "      <td>Ube2m</td>\n",
       "      <td>459.007121</td>\n",
       "      <td>7.432520</td>\n",
       "      <td>-2809.888089</td>\n",
       "      <td>1.084419</td>\n",
       "      <td>0.058285</td>\n",
       "      <td>SE</td>\n",
       "      <td>3231</td>\n",
       "      <td>0.000020</td>\n",
       "      <td>0.001695</td>\n",
       "      <td>0.001800</td>\n",
       "      <td>5652.098366</td>\n",
       "      <td>-2898.360003</td>\n",
       "      <td>88.471914</td>\n",
       "      <td>0.0</td>\n",
       "      <td>0.0</td>\n",
       "    </tr>\n",
       "    <tr>\n",
       "      <th>Rps5</th>\n",
       "      <td>0.185860</td>\n",
       "      <td>4</td>\n",
       "      <td>Rps5</td>\n",
       "      <td>459.007121</td>\n",
       "      <td>4.285259</td>\n",
       "      <td>-1989.912989</td>\n",
       "      <td>2.020748</td>\n",
       "      <td>0.101902</td>\n",
       "      <td>SE</td>\n",
       "      <td>3231</td>\n",
       "      <td>0.000015</td>\n",
       "      <td>0.000634</td>\n",
       "      <td>0.001955</td>\n",
       "      <td>4012.148165</td>\n",
       "      <td>-2257.002196</td>\n",
       "      <td>267.089207</td>\n",
       "      <td>0.0</td>\n",
       "      <td>0.0</td>\n",
       "    </tr>\n",
       "    <tr>\n",
       "      <th>Peg3</th>\n",
       "      <td>0.196626</td>\n",
       "      <td>4</td>\n",
       "      <td>Peg3</td>\n",
       "      <td>459.007121</td>\n",
       "      <td>3.997070</td>\n",
       "      <td>-2618.653783</td>\n",
       "      <td>0.697762</td>\n",
       "      <td>0.075393</td>\n",
       "      <td>SE</td>\n",
       "      <td>3231</td>\n",
       "      <td>0.000019</td>\n",
       "      <td>0.000770</td>\n",
       "      <td>0.002297</td>\n",
       "      <td>5269.629755</td>\n",
       "      <td>-2817.617418</td>\n",
       "      <td>198.963635</td>\n",
       "      <td>0.0</td>\n",
       "      <td>0.0</td>\n",
       "    </tr>\n",
       "    <tr>\n",
       "      <th>Rpl28</th>\n",
       "      <td>0.184182</td>\n",
       "      <td>4</td>\n",
       "      <td>Rpl28</td>\n",
       "      <td>459.007121</td>\n",
       "      <td>4.333211</td>\n",
       "      <td>-1477.433363</td>\n",
       "      <td>2.362950</td>\n",
       "      <td>0.111226</td>\n",
       "      <td>SE</td>\n",
       "      <td>3231</td>\n",
       "      <td>0.000014</td>\n",
       "      <td>0.000617</td>\n",
       "      <td>0.001867</td>\n",
       "      <td>2987.188913</td>\n",
       "      <td>-1724.506234</td>\n",
       "      <td>247.072871</td>\n",
       "      <td>0.0</td>\n",
       "      <td>0.0</td>\n",
       "    </tr>\n",
       "    <tr>\n",
       "      <th>Tnnt1</th>\n",
       "      <td>0.639632</td>\n",
       "      <td>4</td>\n",
       "      <td>Tnnt1</td>\n",
       "      <td>459.007121</td>\n",
       "      <td>0.551163</td>\n",
       "      <td>-505.271424</td>\n",
       "      <td>0.159210</td>\n",
       "      <td>0.120514</td>\n",
       "      <td>SE</td>\n",
       "      <td>3231</td>\n",
       "      <td>0.000009</td>\n",
       "      <td>0.000193</td>\n",
       "      <td>0.001753</td>\n",
       "      <td>1042.865035</td>\n",
       "      <td>-2272.608307</td>\n",
       "      <td>1767.336883</td>\n",
       "      <td>0.0</td>\n",
       "      <td>0.0</td>\n",
       "    </tr>\n",
       "    <tr>\n",
       "      <th>Gm33489</th>\n",
       "      <td>0.074814</td>\n",
       "      <td>4</td>\n",
       "      <td>Gm33489</td>\n",
       "      <td>865.357789</td>\n",
       "      <td>11.492450</td>\n",
       "      <td>2121.195585</td>\n",
       "      <td>0.019322</td>\n",
       "      <td>0.001337</td>\n",
       "      <td>SE</td>\n",
       "      <td>3231</td>\n",
       "      <td>0.000029</td>\n",
       "      <td>0.005105</td>\n",
       "      <td>0.002896</td>\n",
       "      <td>-4210.068982</td>\n",
       "      <td>2005.872131</td>\n",
       "      <td>115.323454</td>\n",
       "      <td>0.0</td>\n",
       "      <td>0.0</td>\n",
       "    </tr>\n",
       "    <tr>\n",
       "      <th>Dalrd3</th>\n",
       "      <td>0.076249</td>\n",
       "      <td>4</td>\n",
       "      <td>Dalrd3</td>\n",
       "      <td>865.357789</td>\n",
       "      <td>11.258749</td>\n",
       "      <td>-2070.543289</td>\n",
       "      <td>0.407266</td>\n",
       "      <td>0.019036</td>\n",
       "      <td>SE</td>\n",
       "      <td>3231</td>\n",
       "      <td>0.000027</td>\n",
       "      <td>0.004576</td>\n",
       "      <td>0.002929</td>\n",
       "      <td>4173.408765</td>\n",
       "      <td>-2163.001892</td>\n",
       "      <td>92.458603</td>\n",
       "      <td>0.0</td>\n",
       "      <td>0.0</td>\n",
       "    </tr>\n",
       "    <tr>\n",
       "      <th>Rps9</th>\n",
       "      <td>0.233870</td>\n",
       "      <td>4</td>\n",
       "      <td>Rps9</td>\n",
       "      <td>459.007121</td>\n",
       "      <td>3.204736</td>\n",
       "      <td>-2105.434262</td>\n",
       "      <td>2.045617</td>\n",
       "      <td>0.122881</td>\n",
       "      <td>SE</td>\n",
       "      <td>3231</td>\n",
       "      <td>0.000017</td>\n",
       "      <td>0.000550</td>\n",
       "      <td>0.003291</td>\n",
       "      <td>4243.190712</td>\n",
       "      <td>-2438.874718</td>\n",
       "      <td>333.440456</td>\n",
       "      <td>0.0</td>\n",
       "      <td>0.0</td>\n",
       "    </tr>\n",
       "  </tbody>\n",
       "</table>\n",
       "</div>"
      ],
      "text/plain": [
       "              FSV  M        g           l  max_delta       max_ll  max_mu_hat  \\\n",
       "g                                                                               \n",
       "Frrs1l   0.249794  4   Frrs1l  459.007121   2.938079 -2456.504937    0.657467   \n",
       "Cap2     0.227798  4     Cap2  865.357789   3.150269 -1958.034694    0.401318   \n",
       "Ube2m    0.116313  4    Ube2m  459.007121   7.432520 -2809.888089    1.084419   \n",
       "Rps5     0.185860  4     Rps5  459.007121   4.285259 -1989.912989    2.020748   \n",
       "Peg3     0.196626  4     Peg3  459.007121   3.997070 -2618.653783    0.697762   \n",
       "Rpl28    0.184182  4    Rpl28  459.007121   4.333211 -1477.433363    2.362950   \n",
       "Tnnt1    0.639632  4    Tnnt1  459.007121   0.551163  -505.271424    0.159210   \n",
       "Gm33489  0.074814  4  Gm33489  865.357789  11.492450  2121.195585    0.019322   \n",
       "Dalrd3   0.076249  4   Dalrd3  865.357789  11.258749 -2070.543289    0.407266   \n",
       "Rps9     0.233870  4     Rps9  459.007121   3.204736 -2105.434262    2.045617   \n",
       "\n",
       "         max_s2_t_hat model     n    s2_FSV  s2_logdelta      time  \\\n",
       "g                                                                    \n",
       "Frrs1l       0.089393    SE  3231  0.000018     0.000549  0.001802   \n",
       "Cap2         0.060421    SE  3231  0.000107     0.003541  0.003584   \n",
       "Ube2m        0.058285    SE  3231  0.000020     0.001695  0.001800   \n",
       "Rps5         0.101902    SE  3231  0.000015     0.000634  0.001955   \n",
       "Peg3         0.075393    SE  3231  0.000019     0.000770  0.002297   \n",
       "Rpl28        0.111226    SE  3231  0.000014     0.000617  0.001867   \n",
       "Tnnt1        0.120514    SE  3231  0.000009     0.000193  0.001753   \n",
       "Gm33489      0.001337    SE  3231  0.000029     0.005105  0.002896   \n",
       "Dalrd3       0.019036    SE  3231  0.000027     0.004576  0.002929   \n",
       "Rps9         0.122881    SE  3231  0.000017     0.000550  0.003291   \n",
       "\n",
       "                 BIC  max_ll_null          LLR  pval  qval  \n",
       "g                                                           \n",
       "Frrs1l   4945.332062 -2825.641903   369.136966   0.0   0.0  \n",
       "Cap2     3948.391576 -2293.415025   335.380331   0.0   0.0  \n",
       "Ube2m    5652.098366 -2898.360003    88.471914   0.0   0.0  \n",
       "Rps5     4012.148165 -2257.002196   267.089207   0.0   0.0  \n",
       "Peg3     5269.629755 -2817.617418   198.963635   0.0   0.0  \n",
       "Rpl28    2987.188913 -1724.506234   247.072871   0.0   0.0  \n",
       "Tnnt1    1042.865035 -2272.608307  1767.336883   0.0   0.0  \n",
       "Gm33489 -4210.068982  2005.872131   115.323454   0.0   0.0  \n",
       "Dalrd3   4173.408765 -2163.001892    92.458603   0.0   0.0  \n",
       "Rps9     4243.190712 -2438.874718   333.440456   0.0   0.0  "
      ]
     },
     "execution_count": 26,
     "metadata": {},
     "output_type": "execute_result"
    }
   ],
   "source": [
    "results.sort_values(\"qval\").head(10)"
   ]
  },
  {
   "cell_type": "code",
   "execution_count": null,
   "metadata": {},
   "outputs": [],
   "source": [
    "sc.pl.spatial(adata,img_key = \"hires\",color = [\"Pcp2\", \"Gng13\", \"Rbfox3\"], alpha = 0.7)"
   ]
  },
  {
   "cell_type": "code",
   "execution_count": null,
   "metadata": {},
   "outputs": [],
   "source": [
    "plt.yscale('log')\n",
    "\n",
    "plt.scatter(results['FSV'], results['qval'], c='black', marker='>')\n",
    "\n",
    "plt.axhline(0.05, c='black', lw=1, ls='--');\n",
    "          \n",
    "plt.gca().invert_yaxis();\n",
    "plt.xlabel('Fraction spatial variance')\n",
    "plt.ylabel('Adj. P-value');\n",
    "plt.ylim(bottom=1)\n",
    "plt.ylim(top=0.0000000000000001)\n",
    "#this next bit is for labeling a subset of the spots\n",
    "for i, txt in enumerate(results['g']):\n",
    "    if results['FSV'][i] > 0.7:\n",
    "        plt.annotate(txt, (results['FSV'][i], results['qval'][i])) \n",
    "plt.show()"
   ]
  },
  {
   "cell_type": "code",
   "execution_count": null,
   "metadata": {},
   "outputs": [],
   "source": [
    "for i, txt in enumerate(results['g']):\n",
    "    if results['FSV'][i] > 0.7:\n",
    "        #plot the genes that have a FSV > 0.75 (FSV:faction spatial variance)\n",
    "        sc.pl.spatial(adata,img_key = \"hires\",color = [txt], alpha = 0.7)"
   ]
  },
  {
   "cell_type": "code",
   "execution_count": null,
   "metadata": {
    "collapsed": true
   },
   "outputs": [],
   "source": []
  }
 ],
 "metadata": {
  "kernelspec": {
   "display_name": "Python 3",
   "language": "python",
   "name": "python3"
  },
  "language_info": {
   "codemirror_mode": {
    "name": "ipython",
    "version": 3
   },
   "file_extension": ".py",
   "mimetype": "text/x-python",
   "name": "python",
   "nbconvert_exporter": "python",
   "pygments_lexer": "ipython3",
   "version": "3.7.3"
  }
 },
 "nbformat": 4,
 "nbformat_minor": 2
}
